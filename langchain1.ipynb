{
 "cells": [
  {
   "cell_type": "code",
   "execution_count": 1,
   "metadata": {},
   "outputs": [],
   "source": [
    "import streamlit as st\n",
    "import os\n",
    "from langchain_groq import ChatGroq\n",
    "from langchain.text_splitter import RecursiveCharacterTextSplitter\n",
    "from langchain.chains.combine_documents import create_stuff_documents_chain\n",
    "from langchain_core.prompts import ChatPromptTemplate\n",
    "from langchain.chains import create_retrieval_chain\n",
    "from langchain_community.vectorstores import FAISS\n",
    "from langchain_community.document_loaders import PyPDFDirectoryLoader\n",
    "from dotenv import load_dotenv\n",
    "load_dotenv()\n",
    "\n",
    "## load the GROQ And OpenAI API KEY \n",
    "groq_api_key=os.getenv('GROQ_API_KEY')\n",
    "os.environ[\"GOOGLE_API_KEY\"]=os.getenv(\"GOOGLE_API_KEY\")\n",
    "\n",
    "\n",
    "llm=ChatGroq(groq_api_key=groq_api_key,model_name=\"Llama3-8b-8192\")"
   ]
  },
  {
   "cell_type": "code",
   "execution_count": 5,
   "metadata": {},
   "outputs": [
    {
     "data": {
      "text/plain": [
       "AIMessage(content=\"Why couldn't the bicycle stand up by itself?\\n\\nBecause it was two-tired!\", response_metadata={'token_usage': {'completion_time': 0.013659397, 'completion_tokens': 18, 'prompt_time': 0.003361263, 'prompt_tokens': 14, 'queue_time': None, 'total_time': 0.01702066, 'total_tokens': 32}, 'model_name': 'Llama3-8b-8192', 'system_fingerprint': 'fp_873a560973', 'finish_reason': 'stop', 'logprobs': None}, id='run-72023fb5-f9c0-4c52-b0c1-17d0048a8473-0')"
      ]
     },
     "execution_count": 5,
     "metadata": {},
     "output_type": "execute_result"
    }
   ],
   "source": [
    "response=llm.invoke(\"Tell me a joke\")\n",
    "response"
   ]
  },
  {
   "cell_type": "code",
   "execution_count": 6,
   "metadata": {},
   "outputs": [
    {
     "name": "stdout",
     "output_type": "stream",
     "text": [
      "Soil is a complex ecosystem that consists of a mixture of mineral and organic components, as well as living organisms. The main components of soil are:\n",
      "\n",
      "1. **Mineral particles**: These are the inorganic particles that give soil its structure and texture. They are the result of weathered rocks and minerals, such as:\n",
      "\t* Silica (SiO2) - quartz, flint, and sand\n",
      "\t* Alumina (Al2O3) - clay, kaolin, and bauxite\n",
      "\t* Iron oxides (Fe2O3) - iron oxide, hematite, and magnetite\n",
      "\t* Calcium carbonate (CaCO3) - limestone and dolomite\n",
      "2. **Organic matter**: This is the fraction of the soil that is composed of decomposed plant and animal residues, such as:\n",
      "\t* Humus - the dark, carbon-rich substance formed from decomposed plant debris\n",
      "\t* Fulvic acids - complex organic compounds that contribute to soil fertility\n",
      "\t* Humic acids - complex organic compounds that play a role in soil structure and fertility\n",
      "3. **Water**: Soil's water content is crucial for plant growth and can range from 0.1 to 1000 g/kg. Water cycles through the soil profile, influencing soil structure and affecting plant growth.\n",
      "4. **Air**: Soil's air content is essential for microbial activity and plant growth. Soil aeration can impact soil structure, microbial populations, and plant root development.\n",
      "5. **Microorganisms**: These are the tiny, living organisms that inhabit the soil, including:\n",
      "\t* Bacteria - decomposers, nitrogen fixers, and pathogens\n",
      "\t* Fungi - decomposers, mycorrhizal associates, and pathogens\n",
      "\t* Protozoa - predators of bacteria and other microorganisms\n",
      "6. **Roots**: Plant roots are an essential component of soil ecosystems, providing a pathway for nutrient uptake, water absorption, and storage.\n",
      "7. **Inorganic compounds**: These include minerals, salts, and other inorganic substances that can be present in the soil, such as:\n",
      "\t* Nitrate (NO3-) - a key nutrient for plant growth\n",
      "\t* Phosphate (PO43-) - an essential nutrient for plant growth\n",
      "\t* Sulfate (SO42-) - an important nutrient for plant growth and microbial activity\n",
      "8. **Organic compounds**: These include a wide range of organic substances, such as:\n",
      "\t* Polysaccharides (e.g., cellulose, starch)\n",
      "\t* Proteins (e.g., enzymes, structural proteins)\n",
      "\t* Lipids (e.g., fatty acids, waxes)\n",
      "\t* Pigments (e.g., chlorophyll, carotenoids)\n",
      "\n",
      "These components interact and influence one another, creating a complex, dynamic ecosystem that supports plant growth, microbial activity, and ecosystem processes.\n"
     ]
    }
   ],
   "source": [
    "response=llm.invoke(\"What are the components of soil?\")\n",
    "\n",
    "lines=response.content.split(\"\\n\")\n",
    "for line in lines:\n",
    "    print(line)"
   ]
  },
  {
   "cell_type": "markdown",
   "metadata": {},
   "source": [
    "# Prompt template"
   ]
  },
  {
   "cell_type": "code",
   "execution_count": 4,
   "metadata": {},
   "outputs": [
    {
     "name": "stdout",
     "output_type": "stream",
     "text": [
      "input_variables=[] template='Tell me a python trick'\n"
     ]
    }
   ],
   "source": [
    "from langchain.prompts import PromptTemplate\n",
    "\n",
    "noinputprompt=PromptTemplate(input_variables=[],\n",
    "                            template=\"Tell me a python trick\")\n",
    "print(noinputprompt)"
   ]
  },
  {
   "cell_type": "code",
   "execution_count": 46,
   "metadata": {},
   "outputs": [
    {
     "name": "stdout",
     "output_type": "stream",
     "text": [
      "Here's a Python trick:\n",
      "\n",
      "**Using a dictionary to reverse a list**\n",
      "\n",
      "In Python, you can use a dictionary to reverse a list in a very concise way:\n",
      "```python\n",
      "my_list = [1, 2, 3, 4, 5]\n",
      "reversed_list = dict(enumerate(reversed(my_list))).values()\n",
      "print(list(reversed_list))  # [5, 4, 3, 2, 1]\n",
      "```\n",
      "This works because the `enumerate` function returns an iterator that produces tuples containing the index and value of each element in the list. The `reversed` function reverses the order of the tuples. The `dict` function then creates a dictionary from the reversed tuples, using the indices as keys and the values as values. Finally, the `values` method returns an iterator over the values, which we convert back to a list using the `list` function.\n",
      "\n",
      "This trick is a great example of how Python's dynamic typing and built-in functions can be used in creative ways to solve problems.\n"
     ]
    }
   ],
   "source": [
    "formattednoinputprompt=noinputprompt.format()\n",
    "response=llm.invoke(formattednoinputprompt)\n",
    "lines=response.content.split(\"\\n\")\n",
    "for line in lines:\n",
    "    print(line)"
   ]
  },
  {
   "cell_type": "code",
   "execution_count": 6,
   "metadata": {},
   "outputs": [
    {
     "name": "stdout",
     "output_type": "stream",
     "text": [
      "input_variables=[] template='Tell me a python trick'\n"
     ]
    }
   ],
   "source": [
    "noinputprompt=PromptTemplate.from_template(template=\"Tell me a python trick\")\n",
    "print(noinputprompt)"
   ]
  },
  {
   "cell_type": "markdown",
   "metadata": {},
   "source": [
    "### Single input prompt template"
   ]
  },
  {
   "cell_type": "code",
   "execution_count": 48,
   "metadata": {},
   "outputs": [
    {
     "data": {
      "text/plain": [
       "PromptTemplate(input_variables=['language'], template='Tell me a {language} trick')"
      ]
     },
     "execution_count": 48,
     "metadata": {},
     "output_type": "execute_result"
    }
   ],
   "source": [
    "oneinput=PromptTemplate(input_variables=[\"languages\"],\n",
    "                        template=\"Tell me a {language} trick\")\n",
    "oneinput"
   ]
  },
  {
   "cell_type": "code",
   "execution_count": 49,
   "metadata": {},
   "outputs": [
    {
     "name": "stdout",
     "output_type": "stream",
     "text": [
      "Here's a SQL trick:\n",
      "\n",
      "**Using a subquery as a derived table in the FROM clause**\n",
      "\n",
      "This trick allows you to use a subquery as a virtual table in the FROM clause, which can simplify complex queries and improve performance.\n",
      "\n",
      "Suppose you want to find the top 3 departments with the highest average salary, along with their average salary and total salary. You can use the following query:\n",
      "```sql\n",
      "WITH department_avg_salary AS (\n",
      "  SELECT department, AVG(salary) AS avg_salary, SUM(salary) AS total_salary\n",
      "  FROM employees\n",
      "  GROUP BY department\n",
      ")\n",
      "SELECT dept, avg_salary, total_salary\n",
      "FROM department_avg_salary\n",
      "ORDER BY avg_salary DESC\n",
      "LIMIT 3;\n",
      "```\n",
      "In this query, the subquery `department_avg_salary` is used as a derived table in the FROM clause. The subquery calculates the average and total salary for each department, and the outer query selects the top 3 departments with the highest average salary.\n",
      "\n",
      "This trick is useful when you need to perform complex calculations or aggregations, and you want to avoid joining multiple tables or using correlated subqueries. It's also a great way to simplify complex queries and improve performance.\n"
     ]
    }
   ],
   "source": [
    "formatoneinput=oneinput.format(language=\"SQL\")\n",
    "response=llm.invoke(formatoneinput)\n",
    "lines=response.content.split(\"\\n\")\n",
    "for line in lines:\n",
    "    print(line)"
   ]
  },
  {
   "cell_type": "code",
   "execution_count": 50,
   "metadata": {},
   "outputs": [
    {
     "name": "stdout",
     "output_type": "stream",
     "text": [
      "The capital of Russia is Moscow!\n"
     ]
    }
   ],
   "source": [
    "oneinput=PromptTemplate.from_template(\"Tell me a the capital of the {country}\")\n",
    "formattedoneinput=oneinput.format(country=\"Russia\")\n",
    "response=llm.invoke(formattedoneinput)\n",
    "lines=response.content.split(\"\\n\")\n",
    "for line in lines:\n",
    "    print(line)"
   ]
  },
  {
   "cell_type": "markdown",
   "metadata": {},
   "source": [
    "### Multiple input prompt template"
   ]
  },
  {
   "cell_type": "code",
   "execution_count": 51,
   "metadata": {},
   "outputs": [
    {
     "name": "stdout",
     "output_type": "stream",
     "text": [
      "India is a vast and diverse country with a rich history, culture, and architecture. Here are some of the most famous cities in India:\n",
      "\n",
      "1. **New Delhi**: The capital city of India, New Delhi is known for its iconic landmarks like the Red Fort, Qutub Minar, and India Gate. It's a bustling metropolis with a mix of old and new architecture.\n",
      "2. **Mumbai**: Formerly known as Bombay, Mumbai is India's financial capital and entertainment hub. It's famous for its Bollywood film industry, beaches like Juhu and Versova, and the iconic Gateway of India monument.\n",
      "3. **Bangalore**: Known as the \"Silicon Valley of India,\" Bangalore is a hub for the IT industry. It's also famous for its gardens, lakes, and the famous Lalbagh Botanical Garden.\n",
      "4. **Chennai**: The capital of Tamil Nadu state, Chennai is known for its rich cultural heritage, temples like the Kapaleeswarar Temple, and the famous Marina Beach.\n",
      "5. **Hyderabad**: This city in Telangana state is famous for its pearl industry, historic landmarks like the Charminar, and the iconic Hussain Sagar Lake.\n",
      "6. **Agra**: Located in Uttar Pradesh, Agra is famous for the Taj Mahal, one of the Seven Wonders of the World. It's a popular tourist destination and a must-visit in India.\n",
      "7. **Jaipur**: The Pink City of India, Jaipur is known for its stunning architecture, vibrant markets, and the famous Amer Fort.\n",
      "8. **Kolkata**: The cultural capital of India, Kolkata is famous for its colonial architecture, museums like the Victoria Memorial, and the iconic Howrah Bridge.\n",
      "9. **Pune**: A city in Maharashtra, Pune is known for its cultural heritage, historic landmarks like the Aga Khan Palace, and the famous Shani Shingnapur temple.\n",
      "10. **Varanasi**: One of the oldest continuously inhabited cities in the world, Varanasi is a sacred city for Hindus and Buddhists. It's famous for its ghats, temples, and spiritual activities.\n",
      "11. **Goa**: A popular tourist destination, Goa is known for its beautiful beaches, vibrant nightlife, and Portuguese architecture.\n",
      "12. **Kochi**: A city in Kerala, Kochi is famous for its historic landmarks like the St. Francis Church, Jewish Synagogue, and the iconic Chinese Fishing Nets.\n",
      "13. **Bhubaneswar**: The capital of Odisha, Bhubaneswar is known for its ancient temples, historic landmarks like the Lingaraja Temple, and the famous Dhauli Hills.\n",
      "14. **Lucknow**: The capital of Uttar Pradesh, Lucknow is famous for its architectural landmarks like the Bara Imambara, and the vibrant markets like Chowk.\n",
      "15. **Thiruvananthapuram**: The capital of Kerala, Thiruvananthapuram is known for its historic landmarks like the Padmanabhaswamy Temple, and the famous Kovalam Beach.\n",
      "\n",
      "These are just a few examples of the many famous cities in India. Each city has its unique culture, history, and architecture, making India a fascinating country to explore.\n"
     ]
    }
   ],
   "source": [
    "multiinput=PromptTemplate(input_variables=[\"country\",\"anything\"],template=\"Can you tell me about the {country} and its famous {anything}\")\n",
    "formattedmulti=multiinput.format(country=\"India\",anything=\"cities\")\n",
    "response=llm.invoke(formattedmulti)\n",
    "lines=response.content.split(\"\\n\")\n",
    "for line in lines:\n",
    "    print(line)"
   ]
  },
  {
   "cell_type": "code",
   "execution_count": 52,
   "metadata": {},
   "outputs": [
    {
     "name": "stdout",
     "output_type": "stream",
     "text": [
      "Here's a Python array trick:\n",
      "\n",
      "**Using the `map` function to apply a lambda function to each element of an array**\n",
      "\n",
      "Imagine you have an array of numbers, and you want to square each number. You could do this using a loop, but that's tedious. With Python, you can use the `map` function and a lambda function to achieve the same result in a single line of code:\n",
      "```python\n",
      "import array\n",
      "\n",
      "numbers = [1, 2, 3, 4, 5]\n",
      "\n",
      "squared_numbers = list(map(lambda x: x**2, numbers))\n",
      "\n",
      "print(squared_numbers)  # [1, 4, 9, 16, 25]\n",
      "```\n",
      "The `map` function applies the lambda function (`lambda x: x**2`) to each element of the `numbers` array, and returns a new array with the results.\n",
      "\n",
      "This trick works with any iterable (not just arrays), and with any function that takes one argument. For example, you can use it to convert all strings in an array to uppercase:\n",
      "```python\n",
      "strings = ['hello', 'world', 'python']\n",
      "uppercase_strings = list(map(lambda s: s.upper(), strings))\n",
      "print(uppercase_strings)  # ['HELLO', 'WORLD', 'PYTHON']\n",
      "```\n",
      "This trick might seem trivial, but it's a powerful way to simplify and concisely express complex operations on arrays and iterables.\n"
     ]
    }
   ],
   "source": [
    "multiinput=PromptTemplate.from_template(\"Tell me a {language}{topic} trick\")\n",
    "formattedmulti=multiinput.format(language=\"python\",topic=\"array\")\n",
    "response=llm.invoke(formattedmulti)\n",
    "lines=response.content.split(\"\\n\")\n",
    "for line in lines:\n",
    "    print(line)"
   ]
  },
  {
   "cell_type": "markdown",
   "metadata": {},
   "source": [
    "# Chat Models Prompt Template"
   ]
  },
  {
   "cell_type": "code",
   "execution_count": 3,
   "metadata": {},
   "outputs": [],
   "source": [
    "from langchain_core.prompts import ChatPromptTemplate,SystemMessagePromptTemplate,HumanMessagePromptTemplate,PromptTemplate"
   ]
  },
  {
   "cell_type": "code",
   "execution_count": 3,
   "metadata": {},
   "outputs": [
    {
     "name": "stdout",
     "output_type": "stream",
     "text": [
      "[SystemMessage(content='You are a helpful assistant that translates English to Kannada'), HumanMessage(content='Hello, how are you nice to meet you')]\n"
     ]
    }
   ],
   "source": [
    "chatprompt=ChatPromptTemplate.from_messages([\n",
    "    (\"system\",\"You are a helpful assistant that translates {input_language} to {output_language}\"),\n",
    "    (\"human\",\"{text}\")\n",
    "])\n",
    "\n",
    "formatchatprompt=chatprompt.format_messages(\n",
    "    input_language=\"English\",\n",
    "    output_language=\"Kannada\",\n",
    "    text=\"Hello, how are you nice to meet you\"\n",
    ")\n",
    "\n",
    "print(formatchatprompt)"
   ]
  },
  {
   "cell_type": "code",
   "execution_count": 27,
   "metadata": {},
   "outputs": [
    {
     "data": {
      "text/plain": [
       "\"ನಿಮ್ಮನ್ನು ಭೇಟಿ ಮಾಡಿದ್ದೇನೆ ಸ್ವಾಗತ! Namaste! (It's nice to meet you!)\""
      ]
     },
     "execution_count": 27,
     "metadata": {},
     "output_type": "execute_result"
    }
   ],
   "source": [
    "res=llm.invoke(formatchatprompt)\n",
    "res.content"
   ]
  },
  {
   "cell_type": "code",
   "execution_count": 37,
   "metadata": {},
   "outputs": [
    {
     "name": "stdout",
     "output_type": "stream",
     "text": [
      "\"Sand, Sun, and Sisterly Love! Twins' Beach Day #Twinning #BeachVibes #SisterGoals\"\n"
     ]
    }
   ],
   "source": [
    "chatprompt=ChatPromptTemplate.from_messages([\n",
    "    (\"system\",\"You are a creative and funny chat assistant that provides captions for social media posts based on three words that describe the post {word1},{word2},{word3}\"),\n",
    "])\n",
    "\n",
    "formatchatprompt=chatprompt.format_messages(\n",
    "    word1=\"happy\",\n",
    "    word2=\"twinning\",\n",
    "    word3=\"beach\",\n",
    ") \n",
    "\n",
    "res=llm.invoke(formatchatprompt)\n",
    "lines=res.content.split('\\n')\n",
    "for line in lines:\n",
    "    print(line)"
   ]
  },
  {
   "cell_type": "code",
   "execution_count": 41,
   "metadata": {},
   "outputs": [
    {
     "name": "stdout",
     "output_type": "stream",
     "text": [
      "Let's get this caption party started!\n",
      "\n",
      "Since you've given me three fantastic descriptive words - happy, twinning, and beach - I'll weave them into some fabulous social media captions for you! Here are a few options:\n",
      "\n",
      "1. \"Sunkissed and feeling happy! Nothing beats a beach day with my twins! #beachlife #happyvibes #twinning\"\n",
      "2. \"Twinning on the beach, because happiness is catching! #happyplace #beachday #twinning\"\n",
      "3. \"Surf's up, and so are our smiles! Happy beach day with my twin, because twinning is winning! #beachlife #happy #twinning\"\n",
      "4. \"When in doubt, head to the beach! Happy vibes only with my twin by my side. #beachvibes #happy #twinning\"\n",
      "5. \"Twinning and winning on the beach! Happy to share this sun-kissed adventure with my twin. #beachday #happy #twinning\"\n",
      "\n",
      "Feel free to pick the one that makes you go \"Ah-ha!\" or mix and match to create your own unique caption!\n"
     ]
    }
   ],
   "source": [
    "chatprompt=ChatPromptTemplate.from_messages([\n",
    "    (\"system\",\"Imagine a witty and inventive chat assistant that crafts social media captions tailored to posts, using three descriptive words: {word1}, {word2}, and {word3}.\"),\n",
    "])\n",
    "\n",
    "formatchatprompt=chatprompt.format_messages(\n",
    "    word1=\"happy\",\n",
    "    word2=\"twinning\",\n",
    "    word3=\"beach\",\n",
    ") \n",
    "\n",
    "res=llm.invoke(formatchatprompt)\n",
    "lines=res.content.split('\\n')\n",
    "for line in lines:\n",
    "    print(line)"
   ]
  },
  {
   "cell_type": "code",
   "execution_count": 4,
   "metadata": {},
   "outputs": [
    {
     "name": "stdout",
     "output_type": "stream",
     "text": [
      "What a lovely prompt! Here are some creative social media captions using the words \"sunny\", \"riverside\", and \"friends\":\n",
      "\n",
      "**Happy Moments**\n",
      "\n",
      "1. \"Sunny days with friends by the riverside, life is good!\"\n",
      "2. \"Laughter and memories made with friends on a sunny riverside afternoon\"\n",
      "\n",
      "**Adventure Time**\n",
      "\n",
      "1. \"Exploring the great outdoors with friends on a sunny riverside escapade\"\n",
      "2. \"Riverside adventures with friends under a sunny sky\"\n",
      "\n",
      "**Relaxation Mode**\n",
      "\n",
      "1. \"Sunny vibes and riverside tranquility with friends by my side\"\n",
      "2. \"A sunny day spent with friends by the riverside, recharging and relaxing\"\n",
      "\n",
      "**Special Occasions**\n",
      "\n",
      "1. \"Celebrating [special occasion] with friends on a sunny riverside day\"\n",
      "2. \"Surrounded by friends and sunshine on a riverside [special occasion] to remember\"\n",
      "\n",
      "**Inspirational Quotes**\n",
      "\n",
      "1. \"Just like the riverside, life is more beautiful with friends by your side. Sunny days ahead!\"\n",
      "2. \"With friends by your side, every day can be a sunny riverside adventure\"\n",
      "\n",
      "I hope you enjoy these captions!\n"
     ]
    }
   ],
   "source": [
    "template=\"Picture yourself as a clever and creative chat assistant that crafts perfect social media captions using three descriptive words: {word1}, {word2}, and {word3}.\"\n",
    "\n",
    "prompt=PromptTemplate(input_variables=[\"word1\",\"word2\",\"word3\"],\n",
    "                    template=template)\n",
    "\n",
    "formattedprompt=prompt.format(word1=\"sunny\",word2=\"riverside\",word3=\"friends\")\n",
    "response=llm.invoke(formattedprompt)\n",
    "lines=response.content.split('\\n')\n",
    "for line in lines:\n",
    "    print(line)"
   ]
  },
  {
   "cell_type": "code",
   "execution_count": null,
   "metadata": {},
   "outputs": [],
   "source": []
  }
 ],
 "metadata": {
  "kernelspec": {
   "display_name": "Python 3",
   "language": "python",
   "name": "python3"
  },
  "language_info": {
   "codemirror_mode": {
    "name": "ipython",
    "version": 3
   },
   "file_extension": ".py",
   "mimetype": "text/x-python",
   "name": "python",
   "nbconvert_exporter": "python",
   "pygments_lexer": "ipython3",
   "version": "3.11.4"
  }
 },
 "nbformat": 4,
 "nbformat_minor": 2
}
